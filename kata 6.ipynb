{
 "cells": [
  {
   "cell_type": "code",
   "execution_count": null,
   "metadata": {},
   "outputs": [],
   "source": [
    "planetas = [\"Mercurio\",\"Venus\",\"Tierra\",\"Marte\", \"Jupiter\", \"Saturno\", \"Urano\", \"Neptuno\"]\n",
    "\n",
    "planetas.append (\"Pluton\")\n",
    "print (planetas)\n",
    "cantidad = len(planetas)\n",
    "print (\"son\", cantidad,\" planetas en el sistema solar\")\n",
    "\n",
    "print (\"El último planeta es :\", planetas[-1])"
   ]
  },
  {
   "cell_type": "code",
   "execution_count": 33,
   "metadata": {},
   "outputs": [
    {
     "name": "stdout",
     "output_type": "stream",
     "text": [
      "2\n",
      "['Mercurio', 'Venus']\n",
      "Alrejados : \n",
      "['Marte', 'Jupiter', 'Saturno', 'Urano', 'Neptuno']\n"
     ]
    }
   ],
   "source": [
    "planetas = [\"Mercurio\",\"Venus\",\"Tierra\",\"Marte\", \"Jupiter\", \"Saturno\", \"Urano\", \"Neptuno\",\"Pluton\"]\n",
    "planeta = input (\"Introduce un planeta iniciando con mayuscula: \")\n",
    "buscado = planetas.index(planeta)\n",
    "print (buscado)\n",
    "print (planetas[0:buscado])\n",
    "#alejados\n",
    "print (\"Alrejados : \")\n",
    "print (planetas[buscado+1:-1])"
   ]
  }
 ],
 "metadata": {
  "interpreter": {
   "hash": "da2c5ee9b213e9acca60d3332b6766c7ca10db92bd468f19c28421a48da86954"
  },
  "kernelspec": {
   "display_name": "Python 3.10.2 ('env': venv)",
   "language": "python",
   "name": "python3"
  },
  "language_info": {
   "codemirror_mode": {
    "name": "ipython",
    "version": 3
   },
   "file_extension": ".py",
   "mimetype": "text/x-python",
   "name": "python",
   "nbconvert_exporter": "python",
   "pygments_lexer": "ipython3",
   "version": "3.10.2"
  },
  "orig_nbformat": 4
 },
 "nbformat": 4,
 "nbformat_minor": 2
}
