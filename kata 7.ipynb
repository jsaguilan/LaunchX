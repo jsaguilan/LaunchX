{
 "cells": [
  {
   "cell_type": "code",
   "execution_count": 35,
   "metadata": {},
   "outputs": [
    {
     "name": "stdout",
     "output_type": "stream",
     "text": [
      "mercuri\n",
      "venus\n",
      "tierra\n",
      "marte\n"
     ]
    }
   ],
   "source": [
    "new_planet = ''\n",
    "planets = []\n",
    "while new_planet != \"done\":\n",
    "  if new_planet:\n",
    "    planets.append (new_planet)\n",
    "  new_planet = input (\"Introduce un nuevo planeta o para terminar escribe done: \")\n",
    "  new_planet = new_planet.lower()\n",
    "\n",
    "  #Imprime la lista\n",
    "for planeta in planets :\n",
    "  print (planeta) \n",
    "\n",
    "\n"
   ]
  }
 ],
 "metadata": {
  "interpreter": {
   "hash": "da2c5ee9b213e9acca60d3332b6766c7ca10db92bd468f19c28421a48da86954"
  },
  "kernelspec": {
   "display_name": "Python 3.10.2 ('env': venv)",
   "language": "python",
   "name": "python3"
  },
  "language_info": {
   "codemirror_mode": {
    "name": "ipython",
    "version": 3
   },
   "file_extension": ".py",
   "mimetype": "text/x-python",
   "name": "python",
   "nbconvert_exporter": "python",
   "pygments_lexer": "ipython3",
   "version": "3.10.2"
  },
  "orig_nbformat": 4
 },
 "nbformat": 4,
 "nbformat_minor": 2
}
