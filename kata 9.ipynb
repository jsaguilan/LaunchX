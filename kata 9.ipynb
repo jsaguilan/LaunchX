{
 "cells": [
  {
   "cell_type": "code",
   "execution_count": 20,
   "metadata": {},
   "outputs": [
    {
     "name": "stdout",
     "output_type": "stream",
     "text": [
      "Tanque1 =Suma de valores 60, Promedio : 3 Tanque2 = 50 y tanque 3 = 100\n"
     ]
    }
   ],
   "source": [
    "def lectura(tank1,tank2,tank3) :\n",
    "    return (f'Tanque1 ={tank1} Tanque2 = {tank2} y tanque 3 = {tank3}')\n",
    "\n",
    "#llama a la función lectura\n",
    "\n",
    "\n",
    "def promedio(valores) :\n",
    "    #suma de valores\n",
    "    total = sum(valores)\n",
    "    numero = len(valores)\n",
    "    \n",
    "    return (f'Suma de valores {total}, Promedio : {numero}')\n",
    "\n",
    "#promedio ([10,20,30])\n",
    "\n",
    "print (lectura (promedio([10,20,30]),50,100))\n"
   ]
  }
 ],
 "metadata": {
  "interpreter": {
   "hash": "da2c5ee9b213e9acca60d3332b6766c7ca10db92bd468f19c28421a48da86954"
  },
  "kernelspec": {
   "display_name": "Python 3.10.2 ('env': venv)",
   "language": "python",
   "name": "python3"
  },
  "language_info": {
   "codemirror_mode": {
    "name": "ipython",
    "version": 3
   },
   "file_extension": ".py",
   "mimetype": "text/x-python",
   "name": "python",
   "nbconvert_exporter": "python",
   "pygments_lexer": "ipython3",
   "version": "3.10.2"
  },
  "orig_nbformat": 4
 },
 "nbformat": 4,
 "nbformat_minor": 2
}
