{
 "cells": [
  {
   "cell_type": "code",
   "execution_count": null,
   "metadata": {},
   "outputs": [],
   "source": [
    "distancia_tierra = 149597870\n",
    "distancia_jupiter = 778547200\n",
    "\n",
    "distancia_tierra_millas = distancia_tierra * 0.621\n",
    "distancia_jupiter_millas = distancia_jupiter * 0.621\n",
    "print (distancia_tierra - distancia_jupiter)\n",
    "print (distancia_tierra_millas - distancia_jupiter_millas)"
   ]
  },
  {
   "cell_type": "code",
   "execution_count": 11,
   "metadata": {},
   "outputs": [
    {
     "name": "stdout",
     "output_type": "stream",
     "text": [
      "distancia:  68.931\n"
     ]
    }
   ],
   "source": [
    "distancia_tierra = int(input(\"Introduce la distancia del sol a la tierra: \"))\n",
    "distancia_marte = int(input(\"Introduce la distancia del sol a marte: \"))\n",
    "\n",
    "distancia = (abs(distancia_tierra - distancia_marte))\n",
    "print (\"distancia: \",distancia * 0.621)\n"
   ]
  }
 ],
 "metadata": {
  "interpreter": {
   "hash": "da2c5ee9b213e9acca60d3332b6766c7ca10db92bd468f19c28421a48da86954"
  },
  "kernelspec": {
   "display_name": "Python 3.10.2 ('env': venv)",
   "language": "python",
   "name": "python3"
  },
  "language_info": {
   "codemirror_mode": {
    "name": "ipython",
    "version": 3
   },
   "file_extension": ".py",
   "mimetype": "text/x-python",
   "name": "python",
   "nbconvert_exporter": "python",
   "pygments_lexer": "ipython3",
   "version": "3.10.2"
  },
  "orig_nbformat": 4
 },
 "nbformat": 4,
 "nbformat_minor": 2
}
