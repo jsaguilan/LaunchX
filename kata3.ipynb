{
 "cells": [
  {
   "cell_type": "code",
   "execution_count": null,
   "metadata": {},
   "outputs": [],
   "source": [
    "vel = 49\n",
    "if vel > 25:\n",
    "    print (\"ADVERTENCIA, PELIGRO\")"
   ]
  },
  {
   "cell_type": "code",
   "execution_count": 2,
   "metadata": {},
   "outputs": [
    {
     "name": "stdout",
     "output_type": "stream",
     "text": [
      "Puedes ver un rayo de Luz\n"
     ]
    }
   ],
   "source": [
    "vel = int(input(\"Introduce la velocidad del asteroide: \"))\n",
    "if vel >= 25:\n",
    "    print(\"Puedes ver un rayo de Luz\")\n",
    "else:\n",
    "    print (\"No ves el rayo de Luz\")    "
   ]
  },
  {
   "cell_type": "code",
   "execution_count": 11,
   "metadata": {},
   "outputs": [
    {
     "name": "stdout",
     "output_type": "stream",
     "text": [
      "Peligro, impacto con mucho daño\n"
     ]
    }
   ],
   "source": [
    "vel = int(input(\"Introduce la velocidad del asteroide: \"))\n",
    "tamano= int(input(\"Introduce el tamaño del asteroide: \"))\n",
    "if tamano > 25 and tamano < 1000:\n",
    "    print (\"Peligro, impacto con mucho daño\")\n",
    "elif vel >= 25:\n",
    "    print (\"ADVERTENCIA, PELIGRO\")\n",
    "    print (\"Puedes ver un rayo de Luz\")\n",
    "else:\n",
    "    print (\"No se ve el rayo\")    \n"
   ]
  }
 ],
 "metadata": {
  "interpreter": {
   "hash": "da2c5ee9b213e9acca60d3332b6766c7ca10db92bd468f19c28421a48da86954"
  },
  "kernelspec": {
   "display_name": "Python 3.10.2 ('env': venv)",
   "language": "python",
   "name": "python3"
  },
  "language_info": {
   "codemirror_mode": {
    "name": "ipython",
    "version": 3
   },
   "file_extension": ".py",
   "mimetype": "text/x-python",
   "name": "python",
   "nbconvert_exporter": "python",
   "pygments_lexer": "ipython3",
   "version": "3.10.2"
  },
  "orig_nbformat": 4
 },
 "nbformat": 4,
 "nbformat_minor": 2
}
