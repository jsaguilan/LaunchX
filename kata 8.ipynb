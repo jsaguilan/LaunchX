{
 "cells": [
  {
   "cell_type": "code",
   "execution_count": 38,
   "metadata": {},
   "outputs": [
    {
     "name": "stdout",
     "output_type": "stream",
     "text": [
      "El planeta Mars,tiene 2 lunas\n",
      "Mars\n",
      "2\n",
      "El planeta Mars tiene una circunferencia polar 6752\n"
     ]
    }
   ],
   "source": [
    "planets = {\n",
    "    'name' : 'Mars',\n",
    "    'moons' : 2\n",
    "}\n",
    "print (f'El planeta {planets[\"name\"]},tiene {planets[\"moons\"]} lunas')\n",
    "print (planets.get('name'))\n",
    "print (planets.get('moons'))\n",
    "\n",
    "#agrega nueva clave\n",
    "planets ['circunferencia (km)'] = {\n",
    "    'polar' : 6752,\n",
    "    'equatorial' : 6792\n",
    "}\n",
    "\n",
    "print (f'El planeta {planets[\"name\"]} tiene una circunferencia polar {planets[\"circunferencia (km)\"][\"polar\"]}')"
   ]
  },
  {
   "cell_type": "code",
   "execution_count": 52,
   "metadata": {},
   "outputs": [
    {
     "name": "stdout",
     "output_type": "stream",
     "text": [
      "0\n",
      "0\n",
      "1\n",
      "2\n",
      "79\n",
      "82\n",
      "27\n",
      "14\n",
      "5\n",
      "2\n",
      "1\n",
      "1\n",
      "El numero de lunas son 214 y su promedio es 17.833333333333332\n"
     ]
    }
   ],
   "source": [
    "planet_moons = {\n",
    "    'mercury': 0,\n",
    "    'venus': 0,\n",
    "    'earth': 1,\n",
    "    'mars': 2,\n",
    "    'jupiter': 79,\n",
    "    'saturn': 82,\n",
    "    'uranus': 27,\n",
    "    'neptune': 14,\n",
    "    'pluto': 5,\n",
    "    'haumea': 2,\n",
    "    'makemake': 1,\n",
    "    'eris': 1\n",
    "}\n",
    "acumula = 0\n",
    "for moons in planet_moons.values():\n",
    "  print (moons) \n",
    "  acumula = acumula + moons\n",
    "\n",
    "\n",
    "numero_planetas = len(planet_moons)\n",
    "\n",
    "promedio = acumula / numero_planetas\n",
    "print (f'El numero de lunas son {acumula} y su promedio es {promedio}')"
   ]
  },
  {
   "cell_type": "markdown",
   "metadata": {},
   "source": []
  }
 ],
 "metadata": {
  "interpreter": {
   "hash": "da2c5ee9b213e9acca60d3332b6766c7ca10db92bd468f19c28421a48da86954"
  },
  "kernelspec": {
   "display_name": "Python 3.10.2 ('env': venv)",
   "language": "python",
   "name": "python3"
  },
  "language_info": {
   "codemirror_mode": {
    "name": "ipython",
    "version": 3
   },
   "file_extension": ".py",
   "mimetype": "text/x-python",
   "name": "python",
   "nbconvert_exporter": "python",
   "pygments_lexer": "ipython3",
   "version": "3.10.2"
  },
  "orig_nbformat": 4
 },
 "nbformat": 4,
 "nbformat_minor": 2
}
